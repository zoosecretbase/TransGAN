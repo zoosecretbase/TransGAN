{
 "cells": [
  {
   "cell_type": "code",
   "execution_count": 1,
   "source": [
    "from __future__ import division\n",
    "from __future__ import print_function\n",
    "\n",
    "import time\n",
    "import argparse\n",
    "import numpy as np\n",
    "\n",
    "import torch\n",
    "import torch.nn.functional as F\n",
    "import torch.optim as optim\n",
    "from torchvision.utils import make_grid, save_image\n",
    "\n",
    "from tensorboardX import SummaryWriter\n",
    "from tqdm import tqdm\n",
    "from copy import deepcopy\n",
    "\n",
    "\n",
    "from utils import *\n",
    "from models import *\n",
    "from fid_score import *\n",
    "from inception_score import *\n",
    "\n",
    "from test_fid_score import *\n",
    "from real_imgs import *\n"
   ],
   "outputs": [],
   "metadata": {}
  },
  {
   "cell_type": "code",
   "execution_count": 46,
   "source": [
    "airplane = 0\n",
    "automobile = 0\n",
    "bird = 1\n",
    "cat = 0\n",
    "deer = 0\n",
    "dog = 0\n",
    "frog = 0\n",
    "horse = 0\n",
    "ship = 0\n",
    "truck = 0\n",
    "\n",
    "real_imgs_list = test_real_imgs_row_data(airplane, automobile, bird, cat, deer, dog, frog, horse, ship, truck)"
   ],
   "outputs": [
    {
     "output_type": "stream",
     "name": "stdout",
     "text": [
      "Files already downloaded and verified\n",
      "complete create cifar_image_set\n"
     ]
    }
   ],
   "metadata": {}
  },
  {
   "cell_type": "code",
   "execution_count": 62,
   "source": [
    "a_real_img = test_a_real_img(real_imgs_list)\n",
    "a_real_img"
   ],
   "outputs": [
    {
     "output_type": "execute_result",
     "data": {
      "text/plain": [
       "<PIL.Image.Image image mode=RGB size=32x32 at 0x7FA148DE6640>"
      ],
      "image/png": "[encoded data removed]"
     },
     "metadata": {},
     "execution_count": 62
    }
   ],
   "metadata": {}
  },
  {
   "cell_type": "code",
   "execution_count": null,
   "source": [],
   "outputs": [],
   "metadata": {}
  }
 ],
 "metadata": {
  "orig_nbformat": 4,
  "language_info": {
   "name": "python",
   "version": "3.9.5",
   "mimetype": "text/x-python",
   "codemirror_mode": {
    "name": "ipython",
    "version": 3
   },
   "pygments_lexer": "ipython3",
   "nbconvert_exporter": "python",
   "file_extension": ".py"
  },
  "kernelspec": {
   "name": "python3",
   "display_name": "Python 3.9.5 64-bit ('.venv': pipenv)"
  },
  "interpreter": {
   "hash": "1892d199a7b9b1b5d955f572dcfba6ae9c5fd4f1a185d7deece08bc9b3215cd4"
  }
 },
 "nbformat": 4,
 "nbformat_minor": 2
}