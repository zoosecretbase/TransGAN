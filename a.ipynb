{
 "cells": [
  {
   "cell_type": "code",
   "execution_count": 1,
   "source": [
    "from __future__ import division\n",
    "from __future__ import print_function\n",
    "\n",
    "import time\n",
    "import argparse\n",
    "import numpy as np\n",
    "\n",
    "import torch\n",
    "import torch.nn.functional as F\n",
    "import torch.optim as optim\n",
    "from torchvision.utils import make_grid, save_image\n",
    "\n",
    "from tensorboardX import SummaryWriter\n",
    "from tqdm import tqdm\n",
    "from copy import deepcopy\n",
    "\n",
    "\n",
    "from utils import *\n",
    "from models import *\n",
    "from fid_score import *\n",
    "from inception_score import *\n"
   ],
   "outputs": [],
   "metadata": {}
  },
  {
   "cell_type": "code",
   "execution_count": 2,
   "source": [
    "# img_size = 32\n",
    "# transform = transforms.Compose([transforms.Resize(size=(img_size, img_size)), transforms.RandomHorizontalFlip(),\n",
    "#                                transforms.ToTensor(), transforms.Normalize((0.5, 0.5, 0.5), (0.5, 0.5, 0.5))])\n",
    "train_set = torchvision.datasets.CIFAR10(root='./data', train=True, download=True)"
   ],
   "outputs": [
    {
     "output_type": "stream",
     "name": "stdout",
     "text": [
      "Files already downloaded and verified\n"
     ]
    }
   ],
   "metadata": {}
  },
  {
   "cell_type": "code",
   "execution_count": 26,
   "source": [
    "bird_frog_imageset = []\n",
    "for i in range(len(train_set)):\n",
    "    if train_set[i][1] == 2:\n",
    "        bird_frog_imageset.append(train_set[i][0])\n",
    "    elif train_set[i][1] == 6:\n",
    "        bird_frog_imageset.append(train_set[i][0])\n",
    "\n",
    "img_set = bird_frog_imageset"
   ],
   "outputs": [],
   "metadata": {}
  },
  {
   "cell_type": "code",
   "execution_count": 28,
   "source": [
    "img_set[8000]"
   ],
   "outputs": [
    {
     "output_type": "execute_result",
     "data": {
      "text/plain": [
       "<PIL.Image.Image image mode=RGB size=32x32 at 0x7FB31927F940>"
      ],
      "image/png": "[encoded data removed]"
     },
     "metadata": {},
     "execution_count": 28
    }
   ],
   "metadata": {}
  },
  {
   "cell_type": "code",
   "execution_count": 17,
   "source": [
    "img_set = bird_frog_imageset\n",
    "\n",
    "def test_real_imgs_row_data(img_set):\n",
    "    return img_set\n"
   ],
   "outputs": [],
   "metadata": {}
  },
  {
   "cell_type": "code",
   "execution_count": 7,
   "source": [
    "def test_real_imgs_row_data(airplane, automobile, bird, cat, deer, dog, frog, horse, ship, truck):\n",
    "    train_set = torchvision.datasets.CIFAR10(root='./data', train=True, download=True)\n",
    "    cifar_image_set = []\n",
    "\n",
    "    for i in range(len(train_set)):\n",
    "        if airplane == 1:\n",
    "            if train_set[i][1] == 0:\n",
    "                cifar_image_set.append(train_set[i][0])\n",
    "\n",
    "        elif automobile == 1:\n",
    "            if train_set[i][1] == 1:\n",
    "                cifar_image_set.append(train_set[i][0])\n",
    "\n",
    "        elif bird == 1:\n",
    "            if train_set[i][1] == 2:\n",
    "                cifar_image_set.append(train_set[i][0])\n",
    "\n",
    "        elif cat == 1:\n",
    "            if train_set[i][1] == 3:\n",
    "                cifar_image_set.append(train_set[i][0])\n",
    "\n",
    "        elif deer == 1:\n",
    "            if train_set[i][1] == 4:\n",
    "                cifar_image_set.append(train_set[i][0])\n",
    "\n",
    "        elif dog == 1:\n",
    "            if train_set[i][1] == 5:\n",
    "                cifar_image_set.append(train_set[i][0])\n",
    "\n",
    "        elif frog == 1:\n",
    "            if train_set[i][1] == 6:\n",
    "                cifar_image_set.append(train_set[i][0])\n",
    "\n",
    "        elif horse == 1:\n",
    "            if train_set[i][1] == 7:\n",
    "                cifar_image_set.append(train_set[i][0])\n",
    "\n",
    "        elif ship == 1:\n",
    "            if train_set[i][1] == 8:\n",
    "                cifar_image_set.append(train_set[i][0])\n",
    "\n",
    "        elif truck == 1:\n",
    "            if train_set[i][1] == 9:\n",
    "                cifar_image_set.append(train_set[i][0])\n",
    "\n",
    "    print(\"complete create cifar_image_set\")\n",
    "\n",
    "    return cifar_image_set\n"
   ],
   "outputs": [],
   "metadata": {}
  },
  {
   "cell_type": "code",
   "execution_count": 8,
   "source": [
    "airplane = 1\n",
    "automobile = 0\n",
    "bird = 0\n",
    "cat = 0\n",
    "deer = 0\n",
    "dog = 0\n",
    "frog = 0\n",
    "horse = 0\n",
    "ship = 0\n",
    "truck = 0"
   ],
   "outputs": [],
   "metadata": {}
  },
  {
   "cell_type": "code",
   "execution_count": 9,
   "source": [
    "a = test_real_imgs_row_data(airplane, automobile, bird, cat, deer, dog, frog, horse, ship, truck)"
   ],
   "outputs": [
    {
     "output_type": "stream",
     "name": "stdout",
     "text": [
      "Files already downloaded and verified\n",
      "complete create image_set\n"
     ]
    }
   ],
   "metadata": {}
  },
  {
   "cell_type": "code",
   "execution_count": 39,
   "source": [
    "a[100]"
   ],
   "outputs": [
    {
     "output_type": "execute_result",
     "data": {
      "text/plain": [
       "<PIL.Image.Image image mode=RGB size=32x32 at 0x7FB31914C9D0>"
      ],
      "image/png": "[encoded data removed]"
     },
     "metadata": {},
     "execution_count": 39
    }
   ],
   "metadata": {}
  },
  {
   "cell_type": "code",
   "execution_count": null,
   "source": [],
   "outputs": [],
   "metadata": {}
  }
 ],
 "metadata": {
  "orig_nbformat": 4,
  "language_info": {
   "name": "python",
   "version": "3.9.5",
   "mimetype": "text/x-python",
   "codemirror_mode": {
    "name": "ipython",
    "version": 3
   },
   "pygments_lexer": "ipython3",
   "nbconvert_exporter": "python",
   "file_extension": ".py"
  },
  "kernelspec": {
   "name": "python3",
   "display_name": "Python 3.9.5 64-bit ('.venv': pipenv)"
  },
  "interpreter": {
   "hash": "1892d199a7b9b1b5d955f572dcfba6ae9c5fd4f1a185d7deece08bc9b3215cd4"
  }
 },
 "nbformat": 4,
 "nbformat_minor": 2
}